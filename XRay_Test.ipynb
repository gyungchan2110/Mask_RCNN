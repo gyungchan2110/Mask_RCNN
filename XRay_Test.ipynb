{
 "cells": [
  {
   "cell_type": "code",
   "execution_count": 1,
   "metadata": {},
   "outputs": [],
   "source": [
    "from SystemConfig import prepare_Task, TaskID_Generator\n",
    "from XRay_DataSet import get_Data_Set, Xray_CardioMegalyDataSetConfig\n",
    "\n",
    "\n",
    "Task = \"Segmentation\"\n",
    "Name = \"Cardiomegaly\"\n",
    "DataSet = \"Generated_Data_20180410_191400_Seg_Base_Expand_20pixel_Cropped\"\n",
    "ImgShape = (1024,1024, 1)\n",
    "\n",
    "GPU_Num, BaseDataSetPath = prepare_Task(Task)"
   ]
  },
  {
   "cell_type": "code",
   "execution_count": null,
   "metadata": {},
   "outputs": [
    {
     "name": "stderr",
     "output_type": "stream",
     "text": [
      "/home/gyungchan2110/gyungchan2110_python3/lib/python3.4/importlib/_bootstrap.py:321: FutureWarning: Conversion of the second argument of issubdtype from `float` to `np.floating` is deprecated. In future, it will be treated as `np.float64 == np.dtype(float).type`.\n",
      "  return f(*args, **kwds)\n",
      "Using TensorFlow backend.\n"
     ]
    },
    {
     "name": "stdout",
     "output_type": "stream",
     "text": [
      "Get Data Done\n",
      "load weight done\n",
      "Processing 15 images\n",
      "(1, 1024, 1024, 3) (1, 10) (1, 4)\n",
      "(1, 1024, 1024, 3) (1, 10) (1, 4)\n",
      "(1, 1024, 1024, 3) (1, 10) (1, 4)\n",
      "(1, 1024, 1024, 3) (1, 10) (1, 4)\n",
      "(1, 1024, 1024, 3) (1, 10) (1, 4)\n",
      "(1, 1024, 1024, 3) (1, 10) (1, 4)\n",
      "(1, 1024, 1024, 3) (1, 10) (1, 4)\n",
      "(1, 1024, 1024, 3) (1, 10) (1, 4)\n",
      "(1, 1024, 1024, 3) (1, 10) (1, 4)\n",
      "(1, 1024, 1024, 3) (1, 10) (1, 4)\n",
      "(1, 1024, 1024, 3) (1, 10) (1, 4)\n",
      "(1, 1024, 1024, 3) (1, 10) (1, 4)\n",
      "(1, 1024, 1024, 3) (1, 10) (1, 4)\n",
      "(1, 1024, 1024, 3) (1, 10) (1, 4)\n",
      "(1, 1024, 1024, 3) (1, 10) (1, 4)\n",
      "(1024, 1024, 1)\n",
      "Img_20180130_162656.png\n",
      "(1024, 1024, 1)\n",
      "Img_20180130_162627.png\n"
     ]
    }
   ],
   "source": [
    "from XRay_DataSet import Xray_CardioMegalyModelConfig\n",
    "from MaskRCNNTask import Test_Dataset\n",
    "import os\n",
    "taskID = TaskID_Generator()\n",
    "\n",
    "os.environ[\"CUDA_VISIBLE_DEVICES\"]= \"0\"\n",
    "\n",
    "Classlist = [\"Aortic Knob\", \"Lt Lower CB\", \"Pulmonary Conus\", \"Rt Lower CB\", \"Rt Upper CB\", \"DAO\" , \"Carina\" , \"LAA\"]\n",
    "\n",
    "# 10Pixel Models \n",
    "\n",
    "# Models = []\n",
    "# Models.append(\"MaskRCNN_Aortic Knob_20180420_193016.hdf5\")\n",
    "# Models.append(\"MaskRCNN_Lt Lower CB_20180421_053810.hdf5\")\n",
    "# Models.append(\"MaskRCNN_Pulmonary Conus_20180421_152259.hdf5\")\n",
    "# Models.append(\"MaskRCNN_Rt Lower CB_20180422_014453.hdf5\")\n",
    "# Models.append(\"MaskRCNN_Rt Upper CB_20180422_114450.hdf5\")\n",
    "# Models.append(\"MaskRCNN_DAO_20180422_215650.hdf5\")\n",
    "# Models.append(\"MaskRCNN_Carina_20180423_075203.hdf5\")\n",
    "# Models.append(\"MaskRCNN_LAA_20180423_181356.hdf5\")\n",
    "\n",
    "# 20Pixel Models \n",
    "\n",
    "Models = []\n",
    "Models.append(\"MaskRCNN_Aortic Knob_20180412_095933.hdf5\")\n",
    "Models.append(\"MaskRCNN_Lt Lower CB_20180417_133115.hdf5\")\n",
    "Models.append(\"MaskRCNN_Pulmonary Conus_%04d%02d%02d_%02d%02d%02d.hdf5\")\n",
    "Models.append(\"MaskRCNN_Rt Lower CB_20180411_164253.hdf5\")\n",
    "Models.append(\"MaskRCNN_Rt Upper CB_20180410_202127.hdf5\")\n",
    "Models.append(\"MaskRCNN_DAO_%04d%02d%02d_%02d%02d%02d.hdf5\")\n",
    "Models.append(\"mask_rcnn_cardiomegaly_0022.h5\")\n",
    "Models.append(\"MaskRCNN_LAA_%04d%02d%02d_%02d%02d%02d.hdf5\")\n",
    "\n",
    "\n",
    "for i,clss in enumerate(Classlist):\n",
    "    if(i != 4):\n",
    "        continue\n",
    "    Classes = []\n",
    "    Classes = [\"BG\"]\n",
    "    Classes.append(clss)\n",
    "    model = Models[i]\n",
    "    taskID = TaskID_Generator()\n",
    "    \n",
    "    datasetConfig = Xray_CardioMegalyDataSetConfig(Name, ImgShape,  Classes, DataSet)\n",
    "    dataset_test = get_Data_Set(datasetConfig, BaseDataSetPath, \"aa\")\n",
    "    \n",
    "    modelConfig = Xray_CardioMegalyModelConfig(len(Classes) -1 , 1024, 1)\n",
    "    modelConfig.IMAGES_PER_GPU = 1\n",
    "    Test_Dataset(taskID, BaseDataSetPath, datasetConfig, modelConfig, model, dataset_test, showImg = False )"
   ]
  },
  {
   "cell_type": "code",
   "execution_count": null,
   "metadata": {},
   "outputs": [],
   "source": []
  }
 ],
 "metadata": {
  "kernelspec": {
   "display_name": "Python 3",
   "language": "python",
   "name": "python3"
  },
  "language_info": {
   "codemirror_mode": {
    "name": "ipython",
    "version": 3
   },
   "file_extension": ".py",
   "mimetype": "text/x-python",
   "name": "python",
   "nbconvert_exporter": "python",
   "pygments_lexer": "ipython3",
   "version": "3.4.3"
  }
 },
 "nbformat": 4,
 "nbformat_minor": 2
}
